{
  "nbformat": 4,
  "nbformat_minor": 0,
  "metadata": {
    "colab": {
      "provenance": [],
      "authorship_tag": "ABX9TyMmYq6M/i63E+CBSOadRZ0W",
      "include_colab_link": true
    },
    "kernelspec": {
      "name": "python3",
      "display_name": "Python 3"
    },
    "language_info": {
      "name": "python"
    }
  },
  "cells": [
    {
      "cell_type": "markdown",
      "metadata": {
        "id": "view-in-github",
        "colab_type": "text"
      },
      "source": [
        "<a href=\"https://colab.research.google.com/github/khonshu1102/Big-Data-Analytics/blob/main/Ass2_31stJan_202301005.ipynb\" target=\"_parent\"><img src=\"https://colab.research.google.com/assets/colab-badge.svg\" alt=\"Open In Colab\"/></a>"
      ]
    },
    {
      "cell_type": "code",
      "execution_count": null,
      "metadata": {
        "id": "D3InMieWMw8f",
        "colab": {
          "base_uri": "https://localhost:8080/"
        },
        "outputId": "126ed300-95af-4a8b-ce53-5f05fefcc635"
      },
      "outputs": [
        {
          "output_type": "stream",
          "name": "stdout",
          "text": [
            "[5 4 6 3 2 1]\n"
          ]
        }
      ],
      "source": [
        "#Question1\n",
        "import numpy as np\n",
        "arr = np.array([1, 2, 3, 6, 4, 5])\n",
        "arr1 = arr[::-1]\n",
        "print(arr1)\n"
      ]
    },
    {
      "cell_type": "code",
      "source": [
        "#Question2\n",
        "import numpy as np\n",
        "arr1 = np.array([[7,2,1], [3,4]])\n",
        "arr2 = np.array([[5,2,1], [3,4]])\n",
        "if (arr1.all() == arr2.all()):\n",
        "  print(\"SAME\")\n",
        "else:\n",
        "  print(\"NOT SAME\")\n",
        "\n"
      ],
      "metadata": {
        "colab": {
          "base_uri": "https://localhost:8080/"
        },
        "id": "SB-nGQPOPn-S",
        "outputId": "c77930bf-0fc6-4176-ec66-f248e78baa8e"
      },
      "execution_count": null,
      "outputs": [
        {
          "output_type": "stream",
          "name": "stdout",
          "text": [
            "SAME\n"
          ]
        },
        {
          "output_type": "stream",
          "name": "stderr",
          "text": [
            "<ipython-input-15-101f9680d292>:2: VisibleDeprecationWarning: Creating an ndarray from ragged nested sequences (which is a list-or-tuple of lists-or-tuples-or ndarrays with different lengths or shapes) is deprecated. If you meant to do this, you must specify 'dtype=object' when creating the ndarray.\n",
            "  arr1 = np.array([[7,2,1], [3,4]])\n",
            "<ipython-input-15-101f9680d292>:3: VisibleDeprecationWarning: Creating an ndarray from ragged nested sequences (which is a list-or-tuple of lists-or-tuples-or ndarrays with different lengths or shapes) is deprecated. If you meant to do this, you must specify 'dtype=object' when creating the ndarray.\n",
            "  arr2 = np.array([[5,2,1], [3,4]])\n"
          ]
        }
      ]
    },
    {
      "cell_type": "code",
      "source": [
        "#Question3 1st Part\n",
        "import numpy as np\n",
        "\n",
        "x = np.array([1,2,3,4,5,1,2,1,1,1])\n",
        "\n",
        "counts = np.bincount(x)  # Count occurrences of each element\n",
        "most_frequent_value = counts.argmax()  # Find the index of the maximum count\n",
        "indices = np.where(x == most_frequent_value)[0] # Find all indices of the most frequent value\n",
        "\n",
        "print(f\"Most frequent value: {most_frequent_value}\")\n",
        "print(f\"Indices: {indices}\")\n",
        "\n",
        "# Question3 2nd Part\n",
        "y = np.array([1, 1, 1, 2, 3, 4, 2, 4, 3, 3])\n",
        "\n",
        "counts = np.bincount(y)\n",
        "most_frequent_value = counts.argmax()\n",
        "indices = np.where(y == most_frequent_value)[0]\n",
        "\n",
        "print(f\"Most frequent value: {most_frequent_value}\")\n",
        "print(f\"Indices: {indices}\")"
      ],
      "metadata": {
        "colab": {
          "base_uri": "https://localhost:8080/"
        },
        "id": "eGkXoVyXQoX3",
        "outputId": "615b5381-1483-4d98-9c44-3134862e23e0"
      },
      "execution_count": null,
      "outputs": [
        {
          "output_type": "stream",
          "name": "stdout",
          "text": [
            "Most frequent value: 1\n",
            "Indices: [0 5 7 8 9]\n",
            "Most frequent value: 1\n",
            "Indices: [0 1 2]\n"
          ]
        }
      ]
    },
    {
      "cell_type": "code",
      "source": [
        "#Question4\n",
        "import numpy as np\n",
        "\n",
        "x = np.matrix('[4, 1, 9; 12, 3, 1; 4, 5, 6]')\n",
        "print(x)\n",
        "\n",
        "sum_matrix = np.sum(x)\n",
        "print(\"\\n the sum of matrix is\", sum_matrix)\n",
        "\n",
        "sum_row = x.sum(axis = 1)\n",
        "print(\"\\n the sum of all rows are:\", sum_row)\n",
        "\n",
        "sum_col = x.sum(axis = 0)\n",
        "print(\"\\n the sum of all columns are:\", sum_col)"
      ],
      "metadata": {
        "colab": {
          "base_uri": "https://localhost:8080/"
        },
        "id": "F8U8J_B6WSie",
        "outputId": "33cfc9e0-21a9-44f8-e0ff-fdc010862efe"
      },
      "execution_count": null,
      "outputs": [
        {
          "output_type": "stream",
          "name": "stdout",
          "text": [
            "[[ 4  1  9]\n",
            " [12  3  1]\n",
            " [ 4  5  6]]\n",
            "\n",
            " the sum of matrix is 45\n",
            "\n",
            " the sum of all rows are: [[14]\n",
            " [16]\n",
            " [15]]\n",
            "\n",
            " the sum of all columns are: [[20  9 16]]\n"
          ]
        }
      ]
    }
  ]
}