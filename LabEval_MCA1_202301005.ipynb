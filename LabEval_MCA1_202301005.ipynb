{
  "nbformat": 4,
  "nbformat_minor": 0,
  "metadata": {
    "colab": {
      "provenance": [],
      "authorship_tag": "ABX9TyNFhNZpeGZVM1MDVSUqdxIY",
      "include_colab_link": true
    },
    "kernelspec": {
      "name": "python3",
      "display_name": "Python 3"
    },
    "language_info": {
      "name": "python"
    }
  },
  "cells": [
    {
      "cell_type": "markdown",
      "metadata": {
        "id": "view-in-github",
        "colab_type": "text"
      },
      "source": [
        "<a href=\"https://colab.research.google.com/github/khonshu1102/Big-Data-Analytics/blob/main/LabEval_MCA1_202301005.ipynb\" target=\"_parent\"><img src=\"https://colab.research.google.com/assets/colab-badge.svg\" alt=\"Open In Colab\"/></a>"
      ]
    },
    {
      "cell_type": "code",
      "execution_count": 4,
      "metadata": {
        "colab": {
          "base_uri": "https://localhost:8080/"
        },
        "id": "T22fVquJtWHb",
        "outputId": "e2a8597d-d192-4a5b-9d15-143c77a867f9"
      },
      "outputs": [
        {
          "output_type": "stream",
          "name": "stdout",
          "text": [
            "Product of matrices:  [[16 19]\n",
            " [26 31]]\n",
            "Covariance of the matrices is:  0.5\n"
          ]
        }
      ],
      "source": [
        "import numpy as np\n",
        "\n",
        "p = np.array([[1,2], [2,3]])\n",
        "q = np.array([[4,5], [6,7]])\n",
        "\n",
        "product = np.dot(p, q)\n",
        "print(\"Product of matrices: \", product)\n",
        "\n",
        "covariance = np.cov(p, q)[0][1]\n",
        "print('Covariance of the matrices is: ', covariance)\n",
        "\n",
        "\n",
        "\n",
        "\n",
        "\n"
      ]
    }
  ]
}